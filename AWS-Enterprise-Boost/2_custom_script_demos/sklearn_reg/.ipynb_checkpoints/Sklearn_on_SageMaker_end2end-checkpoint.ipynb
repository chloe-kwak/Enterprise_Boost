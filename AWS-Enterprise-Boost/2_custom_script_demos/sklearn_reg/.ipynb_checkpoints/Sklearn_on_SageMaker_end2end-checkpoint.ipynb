{
 "cells": [
  {
   "cell_type": "markdown",
   "metadata": {},
   "source": [
    "# Scikit-Learn 랜덤 포레스트 개발, 학습, 최적화 및 배포하기\n",
    "\n",
    "> *이 노트북은 SageMaker Studio의 `Python 3(데이터 사이언스 3.0)` 커널 또는 클래식 SageMaker 노트북 인스턴스의 `conda_python3`에서 잘 작동합니다*.\n",
    "\n",
    "이 노트북에서는 Amazon SageMaker를 사용하여 널리 사용되는 ML 프레임워크인 [Scikit-Learn](https://scikit-learn.org/stable/index.html)을 기반으로 랜덤 포레스트 모델을 개발, 학습, 튜닝 및 배포하는 방법을 보여줍니다.\n",
    "\n",
    "이 예제에서는 *캘리포니아 주택 데이터 세트*(Scikit-Learn에서 제공)를 사용하며, 자세한 내용은 [여기](https://inria.github.io/scikit-learn-mooc/python_scripts/datasets_california_housing.html)에서 확인할 수 있습니다.\n",
    "\n",
    "코드를 이해하려면 다음을 참조하는 것도 유용할 수 있습니다:\n",
    "\n",
    "* 세이지메이커 파이썬 SDK로 Scikit-Learn 사용하기](https://sagemaker.readthedocs.io/en/stable/using_sklearn.html) 가이드\n",
    "* 세이지메이커 파이썬 SDK의 Scikit-Learn 클래스에 대한 API 문서(https://sagemaker.readthedocs.io/en/stable/sagemaker.sklearn.html)\n",
    "* [Boto3용 SageMaker 레퍼런스](https://boto3.amazonaws.com/v1/documentation/api/latest/reference/services/sagemaker.html#client)(파이썬용 일반 AWS SDK, SageMaker 및 기타 여러 AWS 서비스에 대한 로우레벨 바인딩 포함)\n",
    "\n"
   ]
  },
  {
   "cell_type": "markdown",
   "metadata": {
    "tags": []
   },
   "source": [
    "## 라이브러리 및 환경 설정\n",
    "\n",
    "위에서 언급한 SageMaker 커널(올바른 커널로 실행 중인지 확인하세요!)에는 이 노트북에 필요한 모든 라이브러리가 이미 포함되어 있을 것이므로 종속성을 가져오고 현재 [AWS 리전](https://aws.amazon.com/about-aws/global-infrastructure/) 및 대상 [Amazon S3 버킷](https://aws.amazon.com/s3/)과 같은 기본 구성을 설정하는 것부터 시작할 수 있습니다:"
   ]
  },
  {
   "cell_type": "code",
   "execution_count": null,
   "metadata": {},
   "outputs": [],
   "source": [
    "# Python Built-Ins:\n",
    "import os\n",
    "\n",
    "# External Dependencies:\n",
    "import boto3  # General-purpose AWS SDK for Python\n",
    "import numpy as np  # Tools for working with numeric arrays\n",
    "import pandas as pd  # Tools for warking with data tables (dataframes)\n",
    "import sagemaker  # High-level SDK for Amazon SageMaker in particular\n",
    "from sklearn.model_selection import train_test_split\n",
    "from sklearn.datasets import fetch_california_housing\n",
    "\n",
    "sm_boto3 = boto3.client(\"sagemaker\")\n",
    "sess = sagemaker.Session()\n",
    "region = sess.boto_session.region_name\n",
    "bucket = sess.default_bucket()  # this could also be a hard-coded bucket name\n",
    "\n",
    "print(f\"Using bucket {bucket}\")"
   ]
  },
  {
   "cell_type": "code",
   "execution_count": null,
   "metadata": {
    "tags": []
   },
   "outputs": [],
   "source": [
    "# Run this cell to import or install the Data Wrangler widget to show automatic visualization and generate code to fix data quality issues\n",
    "\n",
    "try:\n",
    "    import sagemaker_datawrangler\n",
    "except ImportError:\n",
    "    !pip install --upgrade sagemaker-datawrangler\n",
    "    import sagemaker_datawrangler\n",
    "\n",
    "# Display Pandas DataFrame to view the widget: df, display(df), df.sample()... "
   ]
  },
  {
   "cell_type": "markdown",
   "metadata": {},
   "source": [
    "## 데이터 준비\n",
    "\n",
    "다음으로, SKLearn에서 원시 예제 데이터 세트를 로드하고 학습 작업에 사용할 형식으로 준비합니다: 학습용과 유효성검사/테스트용 CSV를 별도로 준비합니다.\n",
    "[참고](https://scikit-learn.org/stable/modules/generated/sklearn.datasets.fetch_california_housing.html)"
   ]
  },
  {
   "cell_type": "code",
   "execution_count": null,
   "metadata": {},
   "outputs": [],
   "source": [
    "data = fetch_california_housing()\n",
    "\n",
    "X_train, X_test, y_train, y_test = train_test_split(\n",
    "    data.data, data.target, test_size=0.25, random_state=42\n",
    ")\n",
    "\n",
    "trainX = pd.DataFrame(X_train, columns=data.feature_names)\n",
    "trainX[\"target\"] = y_train\n",
    "\n",
    "testX = pd.DataFrame(X_test, columns=data.feature_names)\n",
    "testX[\"target\"] = y_test\n",
    "\n",
    "trainX.head()"
   ]
  },
  {
   "cell_type": "code",
   "execution_count": null,
   "metadata": {},
   "outputs": [],
   "source": [
    "# create directories\n",
    "os.makedirs(\"data\", exist_ok=True)\n",
    "os.makedirs(\"src\", exist_ok=True)\n",
    "os.makedirs(\"model\", exist_ok=True)\n",
    "\n",
    "# save data as csv\n",
    "trainX.to_csv(\"data/california_train.csv\")\n",
    "testX.to_csv(\"data/california_test.csv\")"
   ]
  },
  {
   "cell_type": "markdown",
   "metadata": {},
   "source": [
    "## 학습 스크립트 생성하기\n",
    "\n",
    "세이지메이커 Scikit-Learn [프레임워크 컨테이너](https://docs.aws.amazon.com/sagemaker/latest/dg/pre-built-docker-containers-scikit-learn-spark.html)는 기본 런타임을 제공하며, 사용자는 실제 학습 단계를 스크립트 파일(또는 `requirements.txt`를 포함한 여러 폴더)로 실행할 수 있도록 지정합니다.\n",
    "\n",
    "아래 코드는 노트북의 이곳에서 [`src/main.py`](src/main.py) 파일을 초기화합니다. 런처나 파일 메뉴에서 Python 스크립트 및 기타 파일을 만들 수도 있습니다.\n",
    "\n",
    "이 예에서는 학습 시(스크립트로 실행)와 추론 시([모듈](https://docs.python.org/3/tutorial/modules.html)로 가져온)에 동일한 파일이 사용됩니다:\n",
    "\n",
    "- 기본 동작을 재정의할 특정 **추론 함수**를 정의합니다(예: `model_fn()`).\n",
    "- 모듈이 스크립트로 실행될 때만 실행되도록 `if __name__ == '__main__'` [가드 절](https://docs.python.org/3/library/__main__.html)에 **학습 엔드포인트**를 묶습니다.\n",
    "\n",
    "자세한 안내는 [Scikit-Learn 학습 스크립트 준비하기](https://sagemaker.readthedocs.io/en/stable/frameworks/sklearn/using_sklearn.html#prepare-a-scikit-learn-training-script) (학습용) 및 [SageMaker Scikit-Learn 모델 서버](https://sagemaker.readthedocs.io/en/stable/frameworks/sklearn/using_sklearn.html#sagemaker-scikit-learn-model-server) (추론용) 문서에서 확인할 수 있습니다."
   ]
  },
  {
   "cell_type": "code",
   "execution_count": null,
   "metadata": {},
   "outputs": [],
   "source": [
    "%%writefile src/main.py\n",
    "# Python Built-Ins:\n",
    "import argparse\n",
    "import os\n",
    "\n",
    "# External Dependencies:\n",
    "import joblib\n",
    "import numpy as np\n",
    "import pandas as pd\n",
    "from sklearn.ensemble import RandomForestRegressor\n",
    "\n",
    "\n",
    "# ---- INFERENCE FUNCTIONS ----\n",
    "def model_fn(model_dir):\n",
    "    model = joblib.load(os.path.join(model_dir, \"model.joblib\"))\n",
    "    return model\n",
    "\n",
    "\n",
    "if __name__ == \"__main__\":\n",
    "    # ---- TRAINING ENTRY POINT ----\n",
    "    \n",
    "    # Arguments like data location and hyper-parameters are passed from SageMaker to your script\n",
    "    # via command line arguments and/or environment variables. You can use Python's built-in\n",
    "    # argparse module to parse them:\n",
    "    print(\"Parsing training arguments\")\n",
    "    parser = argparse.ArgumentParser()\n",
    "\n",
    "    # RandomForest hyperparameters\n",
    "    parser.add_argument(\"--n_estimators\", type=int, default=10)\n",
    "    parser.add_argument(\"--min_samples_leaf\", type=int, default=3)\n",
    "\n",
    "    # Data, model, and output directories\n",
    "    parser.add_argument(\"--model_dir\", type=str, default=os.environ.get(\"SM_MODEL_DIR\"))\n",
    "    parser.add_argument(\"--train_dir\", type=str, default=os.environ.get(\"SM_CHANNEL_TRAIN\"))\n",
    "    parser.add_argument(\"--test_dir\", type=str, default=os.environ.get(\"SM_CHANNEL_TEST\"))\n",
    "    parser.add_argument(\"--train_file\", type=str, default=\"train.csv\")\n",
    "    parser.add_argument(\"--test_file\", type=str, default=\"test.csv\")\n",
    "    parser.add_argument(\"--features\", type=str)  # explicitly name which features to use\n",
    "    parser.add_argument(\"--target_variable\", type=str)  # name the column to be used as target\n",
    "\n",
    "    args, _ = parser.parse_known_args()\n",
    "\n",
    "    # -- DATA PREPARATION --\n",
    "    # Load the data from the local folder(s) SageMaker pointed us to:\n",
    "    print(\"Reading data\")\n",
    "    train_df = pd.read_csv(os.path.join(args.train_dir, args.train_file))\n",
    "    test_df = pd.read_csv(os.path.join(args.test_dir, args.test_file))\n",
    "\n",
    "    print(\"building training and testing datasets\")\n",
    "    X_train = train_df[args.features.split()]\n",
    "    X_test = test_df[args.features.split()]\n",
    "    y_train = train_df[args.target_variable]\n",
    "    y_test = test_df[args.target_variable]\n",
    "\n",
    "    # -- MODEL TRAINING --\n",
    "    print(\"Training model\")\n",
    "    model = RandomForestRegressor(\n",
    "        n_estimators=args.n_estimators,\n",
    "        min_samples_leaf=args.min_samples_leaf,\n",
    "        n_jobs=-1)\n",
    "\n",
    "    model.fit(X_train, y_train)\n",
    "\n",
    "    # -- MODEL EVALUATION --\n",
    "    print(\"Testing model\")\n",
    "    abs_err = np.abs(model.predict(X_test) - y_test)\n",
    "    # Output metrics to the console (in this case, percentile absolute errors):\n",
    "    for q in [10, 50, 90]:\n",
    "        print(f\"AE-at-{q}th-percentile: {np.percentile(a=abs_err, q=q)}\")\n",
    "\n",
    "    # -- SAVE THE MODEL --\n",
    "    # ...To the specific folder SageMaker pointed us to:\n",
    "    path = os.path.join(args.model_dir, \"model.joblib\")\n",
    "    joblib.dump(model, path)\n",
    "    print(f\"model saved at {path}\")\n"
   ]
  },
  {
   "cell_type": "markdown",
   "metadata": {},
   "source": [
    "## 로컬 학습\n",
    "\n",
    "구성은 명령줄 인수(command line argument)를 통해 이루어지므로, 세이지메이커 학습 작업에 업로드하기 전에 로컬에서 학습 스크립트를 테스트할 수 있습니다.\n",
    "\n",
    "> ⚠️ **주의:** 이 방법은 작은 샘플 데이터 세트에 대한 스크립트의 빠른 기능 테스트에 적합합니다... 그러나 스크립트가 *기능적으로* 작동한다는 확신이 들면 실험을 재현 가능하고 추적 가능한 SageMaker 학습 작업으로 옮기고 싶을 것입니다. 노트북 커널의 라이브러리가 나중에 학습 작업에 대해 구성한 컨테이너 이미지와 정확히 일치하지 않을 수 있다는 점에 유의하세요."
   ]
  },
  {
   "cell_type": "code",
   "execution_count": null,
   "metadata": {},
   "outputs": [],
   "source": [
    "!python src/main.py \\\n",
    "    --n_estimators 100 \\\n",
    "    --min_samples_leaf 3 \\\n",
    "    --model_dir model/ \\\n",
    "    --train_dir data/ \\\n",
    "    --test_dir data/ \\\n",
    "    --train_file california_train.csv \\\n",
    "    --test_file california_test.csv \\\n",
    "    --features 'MedInc HouseAge AveRooms AveBedrms Population AveOccup Latitude Longitude' \\\n",
    "    --target_variable target"
   ]
  },
  {
   "cell_type": "markdown",
   "metadata": {},
   "source": [
    "## 세이지메이커 학습\n",
    "\n",
    "학습 작업에서 스크립트를 실행하려면 먼저 세이지메이커가 액세스할 수 있는 곳에 데이터를 업로드해야 합니다: 일반적으로 [Amazon S3](https://aws.amazon.com/s3/)입니다.\n",
    "\n",
    "### 데이터 입력 \"채널\" 만들기(S3에 복사)\n",
    "\n",
    "세이지메이커에 대한 여러 데이터 \"채널\"의 수와 이름은 사용자에게 달려 있습니다: 정확히 2개일 필요는 없으며, \"학습\" 및 \"테스트\"라고 부를 필요도 없습니다."
   ]
  },
  {
   "cell_type": "code",
   "execution_count": null,
   "metadata": {},
   "outputs": [],
   "source": [
    "train_data_s3uri = sess.upload_data(\n",
    "    path=\"data/california_train.csv\",  # Local source\n",
    "    bucket=bucket,\n",
    "    key_prefix=\"sm101/sklearn\",  # Destination path in S3 bucket\n",
    ")\n",
    "\n",
    "test_data_s3uri = sess.upload_data(\n",
    "    path=\"data/california_test.csv\",  # Local source\n",
    "    bucket=bucket,\n",
    "    key_prefix=\"sm101/sklearn\",  # Destination path in S3 bucket\n",
    ")\n",
    "\n",
    "print(\"Train set URI:\", train_data_s3uri)\n",
    "print(\"Test set URI:\", test_data_s3uri)"
   ]
  },
  {
   "cell_type": "markdown",
   "metadata": {},
   "source": [
    "### 파이썬 SDK로 학습 작업 시작하기 ###\n",
    "\n",
    "데이터를 업로드하고 스크립트를 준비했으면 세이지메이커 학습 작업을 구성할 준비가 된 것입니다:"
   ]
  },
  {
   "cell_type": "code",
   "execution_count": null,
   "metadata": {},
   "outputs": [],
   "source": [
    "# We use the Estimator from the SageMaker Python SDK\n",
    "from sagemaker.sklearn.estimator import SKLearn\n",
    "\n",
    "sklearn_estimator = SKLearn(\n",
    "    entry_point=\"main.py\",\n",
    "    source_dir=\"src\",  # To upload the whole folder - or instead set entry_point=\"src/main.py\"\n",
    "    role=sagemaker.get_execution_role(),  # Use same IAM role as notebook is currently using\n",
    "    instance_count=1,\n",
    "    instance_type=\"ml.m5.large\",\n",
    "    framework_version=\"1.0-1\",\n",
    "    base_job_name=\"rf-scikit\",\n",
    "    metric_definitions=[\n",
    "        # SageMaker can extract metrics from your console logs via Regular Expressions:\n",
    "        {\"Name\": \"median-AE\", \"Regex\": \"AE-at-50th-percentile: ([0-9.]+).*$\"},\n",
    "    ],\n",
    "    hyperparameters={\n",
    "        \"n_estimators\": 100,\n",
    "        \"min_samples_leaf\": 3,\n",
    "        \"features\": \"MedInc HouseAge AveRooms AveBedrms Population AveOccup Latitude Longitude\",\n",
    "        \"target_variable\": \"target\",\n",
    "        # SageMaker data channels are always folders. Even if you point to a particular object\n",
    "        # S3URI, you'll need to either: Properly support loading folder inputs in your script; or\n",
    "        # use extra configuration parameters to identify specific filename(s):\n",
    "        \"train_file\": \"california_train.csv\",\n",
    "        \"test_file\": \"california_test.csv\",\n",
    "    },\n",
    "    # Optional settings to run with SageMaker Managed Spot:\n",
    "    max_run=20*60,  # Maximum allowed active runtime (in seconds)\n",
    "    use_spot_instances=True,  # Use spot instances to reduce cost\n",
    "    max_wait=30*60,  # Maximum clock time (including spot delays)\n",
    ")"
   ]
  },
  {
   "cell_type": "code",
   "execution_count": null,
   "metadata": {},
   "outputs": [],
   "source": [
    "sklearn_estimator.fit({\"train\": train_data_s3uri, \"test\": test_data_s3uri}, wait=True)"
   ]
  },
  {
   "cell_type": "markdown",
   "metadata": {},
   "source": [
    "저희가 실행한 학습 작업은 데이터 세트가 매우 작기 때문에 매우 \"가벼운\" 작업이라는 점을 기억하세요. 따라서 노트북 인스턴스에서 로컬로 실행하면 SageMaker에 비해 실행 시간이 더 빨라집니다. 세이지메이커는 학습 인프라를 프로비저닝해야 하기 때문에 작업을 실행하는 데 시간이 더 오래 걸립니다. 이 예제 학습 작업은 리소스 집약적이지 않기 때문에, 인프라 프로비저닝 프로세스는 훈련 작업 자체에 비해 더 많은 오버헤드를 추가합니다. \n",
    "\n",
    "데이터 세트가 큰 실제 상황에서는 세이지메이커에서 실행하면 이 대화형 노트북 환경을 적당히 유지하고 필요에 따라 더 강력한 학습 작업 리소스를 회전시킴으로써 실행 프로세스의 속도를 크게 높일 수 있으며 비용을 최적화하는 데 도움이 됩니다.\n",
    "\n",
    "이 학습 작업은 *여기서는 노트북 자체에서 실행되지 않습니다*. 세이지메이커용 AWS 콘솔 - [학습 작업 탭](https://console.aws.amazon.com/sagemaker/home?#/jobs) 및 [세이지메이커 스튜디오 실험 및 평가판 UI](https://docs.aws.amazon.com/sagemaker/latest/dg/experiments-view-compare.html)에서 이력을 확인할 수 있습니다.\n",
    "\n",
    "> ℹ️ **팁:** 노트북 커널이 재시작되거나 다른 이유로 estimator 상태가 손실된 경우 학습 작업을 다시 실행할 필요가 없습니다. 예를 들어, 이전 학습 작업의 이름을 *연결*하면 됩니다:\n",
    ">\n",
    "> '''python\n",
    "> estimator = SKLearn.attach(\"rf-scikit-2025-01-01-00-00-00-000\")\n",
    "> ```"
   ]
  },
  {
   "cell_type": "markdown",
   "metadata": {},
   "source": [
    "## 실시간 엔드포인트에 배포하기\n",
    "\n",
    "### 파이썬 SDK로 배포하기\n",
    "\n",
    "한 줄의 코드로 실시간 추론을 위해 학습된 `Estimator`를 세이지메이커 엔드포인트에 배포할 수 있으며, `Estimator.deploy(...)`를 사용하면 세이지메이커 [모델](https://console.aws.amazon.com/sagemaker/home?#/models), [엔드포인트 구성](https://console.aws.amazon.com/sagemaker/home?#/endpointConfig), [엔드포인트](https://console.aws.amazon.com/sagemaker/home?#/endpoints)를 암시적으로 생성할 수 있습니다.\n",
    "\n",
    "하지만 보다 세분화된 제어를 위해, 학습 작업에서 Amazon S3에서 생성된 `model.tar.gz`를 참조하여 SageMaker Python SDK를 통해 `Model` 객체를 생성하도록 선택할 수 있습니다. 이렇게 하면 예를 들어 다음과 같은 작업을 수행할 수 있습니다:\n",
    "\n",
    "- 학습과 추론 사이에 사용되는 환경 변수 또는 Python 파일을 수정합니다.\n",
    "- Amazon S3에서 호환되는 `model.tar.gz`로 패키징된 SageMaker 외부에서 학습된 모델을 가져옵니다.\n",
    "\n",
    "여기서는 더 긴 경로를 보여드리겠습니다:"
   ]
  },
  {
   "cell_type": "code",
   "execution_count": null,
   "metadata": {},
   "outputs": [],
   "source": [
    "sklearn_estimator.latest_training_job.wait(logs=\"None\")  # Check the job is finished\n",
    "\n",
    "# describe() here is equivalent to low-level boto3 SageMaker describe_training_job\n",
    "job_desc = sklearn_estimator.latest_training_job.describe()\n",
    "model_s3uri = job_desc[\"ModelArtifacts\"][\"S3ModelArtifacts\"]\n",
    "\n",
    "print(\"Model artifact saved at:\", model_s3uri)"
   ]
  },
  {
   "cell_type": "code",
   "execution_count": null,
   "metadata": {},
   "outputs": [],
   "source": [
    "from sagemaker.sklearn.model import SKLearnModel\n",
    "\n",
    "model = SKLearnModel(\n",
    "    model_data=model_s3uri,\n",
    "    framework_version=\"1.0-1\",\n",
    "    py_version=\"py3\",\n",
    "    role=sagemaker.get_execution_role(),\n",
    "    entry_point=\"src/main.py\",\n",
    ")"
   ]
  },
  {
   "cell_type": "code",
   "execution_count": null,
   "metadata": {},
   "outputs": [],
   "source": [
    "predictor = model.deploy(\n",
    "    instance_type=\"ml.c5.large\",\n",
    "    initial_instance_count=1,\n",
    ")"
   ]
  },
  {
   "cell_type": "markdown",
   "metadata": {},
   "source": [
    "### 실시간 추론\n",
    "\n",
    "세이지메이커 파이썬 SDK의 [Predictor](https://sagemaker.readthedocs.io/en/stable/api/inference/predictors.html) 클래스는 요청 및 응답의 (구성 가능한) 반/직렬화도 처리하는 엔드포인트에 파이썬 래퍼를 제공합니다.\n",
    "\n",
    "또는 SageMaker Python SDK를 사용할 수 없는 클라이언트(예: 비 Python 클라이언트 또는 어떤 이유로 PyPI [sagemaker](https://pypi.org/project/sagemaker/) 패키지를 설치할 수 없는 Python 환경)를 위한 대안입니다: 일반 AWS SDK를 사용하여 하위 수준인 [세이지메이커 인보크엔드포인트 API](https://docs.aws.amazon.com/sagemaker/latest/APIReference/API_runtime_InvokeEndpoint.html)를 호출할 수 있습니다."
   ]
  },
  {
   "cell_type": "code",
   "execution_count": null,
   "metadata": {},
   "outputs": [],
   "source": [
    "# the SKLearnPredictor does the serialization from pandas for us\n",
    "print(predictor.predict(testX[data.feature_names]))"
   ]
  },
  {
   "cell_type": "markdown",
   "metadata": {},
   "source": [
    "### 엔드포인트 삭제\n",
    "\n",
    "학습 작업 인프라는 필요에 따라 시작되고 작업이 중단되는 즉시 종료되지만 엔드포인트는 종료할 때까지 계속 작동합니다. 사용하지 않는 엔드포인트를 삭제하여 비용 발생을 방지하세요:"
   ]
  },
  {
   "cell_type": "code",
   "execution_count": null,
   "metadata": {},
   "outputs": [],
   "source": [
    "predictor.delete_endpoint(delete_endpoint_config=True)"
   ]
  },
  {
   "cell_type": "markdown",
   "metadata": {},
   "source": [
    "## (선택 사항) 배치 추론\n",
    "\n",
    "위에서 학습된 모델을 실시간 API에 배포하는 방법을 살펴봤습니다. 하지만 전체 데이터 배치를 한 번에 처리하려면 어떻게 해야 할까요? [세이지메이커 배치 변환](https://docs.aws.amazon.com/sagemaker/latest/dg/batch-transform.html)을 사용하면 엔드포인트를 통해 데이터를 전송하는 과정을 수동으로 오케스트레이션할 필요가 없습니다.\n",
    "\n",
    "학습과 마찬가지로 배치 변환 작업의 입력 데이터는 SageMaker에서 액세스할 수 있어야 하며(즉, Amazon S3에 업로드해야 함), 그 결과는 S3에 저장됩니다. 작업을 위해 스핀업된 컴퓨팅 인프라는 데이터가 처리되는 즉시 릴리스됩니다.\n",
    "\n",
    "학습과 달리, S3의 입력 데이터는 모델이 *추론*을 위해 기대하는 형식과 일치해야 합니다. 즉,`target`, 사용하지 않는 기능 및 열 헤더를 제거해야 합니다(대신 [input_fn](https://sagemaker.readthedocs.io/en/stable/frameworks/sklearn/using_sklearn.html#process-input)을 재정의하여 모델이 더 많은 입력 형식을 처리할 수 있도록 할 수도 있습니다)."
   ]
  },
  {
   "cell_type": "code",
   "execution_count": null,
   "metadata": {},
   "outputs": [],
   "source": [
    "testX[data.feature_names].to_csv(\"data/transform_input.csv\", header=False, index=False)\n",
    "\n",
    "transform_input_s3uri = sess.upload_data(\n",
    "    path=\"data/transform_input.csv\",  # Local source\n",
    "    bucket=bucket,\n",
    "    key_prefix=\"sm101/sklearn\",  # Destination path in S3 bucket\n",
    ")"
   ]
  },
  {
   "cell_type": "markdown",
   "metadata": {},
   "source": [
    "입력 데이터가 업로드되었으면, 이전의 `model`을 사용하여 변환 작업을 실행할 준비가 된 것입니다:"
   ]
  },
  {
   "cell_type": "code",
   "execution_count": null,
   "metadata": {},
   "outputs": [],
   "source": [
    "transformer = model.transformer(\n",
    "    instance_count=1,\n",
    "    instance_type=\"ml.m5.xlarge\",\n",
    "    # Input Parameters:\n",
    "    strategy=\"MultiRecord\",  # Batch multiple records per request to the endpoint\n",
    "    max_payload=2,  # Max 2MB payload per request\n",
    "    max_concurrent_transforms=2,  # 2 concurrent request threads per instance\n",
    "    # Output Parameters:\n",
    "    output_path=f\"s3://{bucket}/sm101/sklearn-transforms\",\n",
    "    accept=\"text/csv\",  # Request CSV output format\n",
    "    assemble_with=\"Line\",  # Records in CSV output are newline-separated\n",
    ")"
   ]
  },
  {
   "cell_type": "code",
   "execution_count": null,
   "metadata": {},
   "outputs": [],
   "source": [
    "transformer.transform(\n",
    "    transform_input_s3uri,\n",
    "    content_type=\"text/csv\",  # Input files are CSV format\n",
    "    split_type=\"Line\",  # Interpret each line of the CSV as a separate record\n",
    "    join_source=\"Input\",  # Bring input features through to the output file\n",
    "    wait=True,  # Keep this notebook blocked until the job completes\n",
    "    logs=True,  # Stream logs to the notebook\n",
    ")"
   ]
  },
  {
   "cell_type": "markdown",
   "metadata": {},
   "source": [
    "S3의 각 입력 개체에 대해 배치 변환은 출력 폴더 아래에 파일 이름에 `.out`이 추가된 유사한 개체를 생성합니다. 간단한 예제에서는 입력 CSV가 하나뿐이므로 결과 파일은 `csv.out` 하나가 됩니다:"
   ]
  },
  {
   "cell_type": "code",
   "execution_count": null,
   "metadata": {},
   "outputs": [],
   "source": [
    "job_desc = sm_boto3.describe_transform_job(TransformJobName=transformer.latest_transform_job.name)\n",
    "output_s3uri = job_desc[\"TransformOutput\"][\"S3OutputPath\"]\n",
    "\n",
    "# pd.read_csv() can take an \"s3://.../.../\" folder, but doesn't like that our Batch Transform\n",
    "# results have .csv.out extension instead of .csv: So instead manually specify which file we want:\n",
    "!echo \"Output folder contents:\" && aws s3 ls {output_s3uri}/\n",
    "\n",
    "input_filename = transform_input_s3uri.rpartition(\"/\")[2]\n",
    "output_file_s3uri = f\"{output_s3uri}/{input_filename}.out\"\n",
    "\n",
    "print(f\"\\nReading {output_file_s3uri} from S3\")\n",
    "pd.read_csv(output_file_s3uri, names=data.feature_names + [\"prediction\"])"
   ]
  },
  {
   "cell_type": "markdown",
   "metadata": {},
   "source": [
    "## 결론\n",
    "\n",
    "이 노트북에서는 다음과 같은 예제를 살펴보았습니다:\n",
    "\n",
    "- 구성 가능한 매개변수 및 출력 정확도 메트릭을 사용하여 자체 Scikit-Learn 기반 모델 학습 스크립트를 SageMaker 학습 작업으로 실행하기\n",
    "- 학습된 모델을 실시간 추론 API에 배포하기\n",
    "- 일괄 추론에 모델 사용\n",
    "\n",
    "보일러플레이트 코드 없이도 세이지메이커가 모델 제공 스택을 처리해 주었습니다: 필요한 경우 [오버라이드 함수](https://sagemaker.readthedocs.io/en/stable/frameworks/sklearn/using_sklearn.html#sagemaker-scikit-learn-model-server)를 정의하여 기본 동작을 사용자 정의하기만 하면 됩니다(예: `input_fn` 및 `model_fn`). 학습 시 스크립트는 세이지메이커를 통해 제공된 명령줄 인수와 환경 변수에서 매개 변수를 읽었으며, S3에서 다운로드하는 것도 세이지메이커가 처리하므로 로컬 폴더에서 데이터를 로드했습니다.\n",
    "\n",
    "노트북에서 로컬로 작업하는 대신 세이지메이커 API를 사용함으로써 실험의 추적성과 재현성을 개선하고, 컴퓨팅 리소스 사용을 최적화하고, 학습된 모델에서 프로덕션 배포까지의 경로를 가속화할 수 있습니다."
   ]
  }
 ],
 "metadata": {
  "availableInstances": [
   {
    "_defaultOrder": 0,
    "_isFastLaunch": true,
    "category": "General purpose",
    "gpuNum": 0,
    "hideHardwareSpecs": false,
    "memoryGiB": 4,
    "name": "ml.t3.medium",
    "vcpuNum": 2
   },
   {
    "_defaultOrder": 1,
    "_isFastLaunch": false,
    "category": "General purpose",
    "gpuNum": 0,
    "hideHardwareSpecs": false,
    "memoryGiB": 8,
    "name": "ml.t3.large",
    "vcpuNum": 2
   },
   {
    "_defaultOrder": 2,
    "_isFastLaunch": false,
    "category": "General purpose",
    "gpuNum": 0,
    "hideHardwareSpecs": false,
    "memoryGiB": 16,
    "name": "ml.t3.xlarge",
    "vcpuNum": 4
   },
   {
    "_defaultOrder": 3,
    "_isFastLaunch": false,
    "category": "General purpose",
    "gpuNum": 0,
    "hideHardwareSpecs": false,
    "memoryGiB": 32,
    "name": "ml.t3.2xlarge",
    "vcpuNum": 8
   },
   {
    "_defaultOrder": 4,
    "_isFastLaunch": true,
    "category": "General purpose",
    "gpuNum": 0,
    "hideHardwareSpecs": false,
    "memoryGiB": 8,
    "name": "ml.m5.large",
    "vcpuNum": 2
   },
   {
    "_defaultOrder": 5,
    "_isFastLaunch": false,
    "category": "General purpose",
    "gpuNum": 0,
    "hideHardwareSpecs": false,
    "memoryGiB": 16,
    "name": "ml.m5.xlarge",
    "vcpuNum": 4
   },
   {
    "_defaultOrder": 6,
    "_isFastLaunch": false,
    "category": "General purpose",
    "gpuNum": 0,
    "hideHardwareSpecs": false,
    "memoryGiB": 32,
    "name": "ml.m5.2xlarge",
    "vcpuNum": 8
   },
   {
    "_defaultOrder": 7,
    "_isFastLaunch": false,
    "category": "General purpose",
    "gpuNum": 0,
    "hideHardwareSpecs": false,
    "memoryGiB": 64,
    "name": "ml.m5.4xlarge",
    "vcpuNum": 16
   },
   {
    "_defaultOrder": 8,
    "_isFastLaunch": false,
    "category": "General purpose",
    "gpuNum": 0,
    "hideHardwareSpecs": false,
    "memoryGiB": 128,
    "name": "ml.m5.8xlarge",
    "vcpuNum": 32
   },
   {
    "_defaultOrder": 9,
    "_isFastLaunch": false,
    "category": "General purpose",
    "gpuNum": 0,
    "hideHardwareSpecs": false,
    "memoryGiB": 192,
    "name": "ml.m5.12xlarge",
    "vcpuNum": 48
   },
   {
    "_defaultOrder": 10,
    "_isFastLaunch": false,
    "category": "General purpose",
    "gpuNum": 0,
    "hideHardwareSpecs": false,
    "memoryGiB": 256,
    "name": "ml.m5.16xlarge",
    "vcpuNum": 64
   },
   {
    "_defaultOrder": 11,
    "_isFastLaunch": false,
    "category": "General purpose",
    "gpuNum": 0,
    "hideHardwareSpecs": false,
    "memoryGiB": 384,
    "name": "ml.m5.24xlarge",
    "vcpuNum": 96
   },
   {
    "_defaultOrder": 12,
    "_isFastLaunch": false,
    "category": "General purpose",
    "gpuNum": 0,
    "hideHardwareSpecs": false,
    "memoryGiB": 8,
    "name": "ml.m5d.large",
    "vcpuNum": 2
   },
   {
    "_defaultOrder": 13,
    "_isFastLaunch": false,
    "category": "General purpose",
    "gpuNum": 0,
    "hideHardwareSpecs": false,
    "memoryGiB": 16,
    "name": "ml.m5d.xlarge",
    "vcpuNum": 4
   },
   {
    "_defaultOrder": 14,
    "_isFastLaunch": false,
    "category": "General purpose",
    "gpuNum": 0,
    "hideHardwareSpecs": false,
    "memoryGiB": 32,
    "name": "ml.m5d.2xlarge",
    "vcpuNum": 8
   },
   {
    "_defaultOrder": 15,
    "_isFastLaunch": false,
    "category": "General purpose",
    "gpuNum": 0,
    "hideHardwareSpecs": false,
    "memoryGiB": 64,
    "name": "ml.m5d.4xlarge",
    "vcpuNum": 16
   },
   {
    "_defaultOrder": 16,
    "_isFastLaunch": false,
    "category": "General purpose",
    "gpuNum": 0,
    "hideHardwareSpecs": false,
    "memoryGiB": 128,
    "name": "ml.m5d.8xlarge",
    "vcpuNum": 32
   },
   {
    "_defaultOrder": 17,
    "_isFastLaunch": false,
    "category": "General purpose",
    "gpuNum": 0,
    "hideHardwareSpecs": false,
    "memoryGiB": 192,
    "name": "ml.m5d.12xlarge",
    "vcpuNum": 48
   },
   {
    "_defaultOrder": 18,
    "_isFastLaunch": false,
    "category": "General purpose",
    "gpuNum": 0,
    "hideHardwareSpecs": false,
    "memoryGiB": 256,
    "name": "ml.m5d.16xlarge",
    "vcpuNum": 64
   },
   {
    "_defaultOrder": 19,
    "_isFastLaunch": false,
    "category": "General purpose",
    "gpuNum": 0,
    "hideHardwareSpecs": false,
    "memoryGiB": 384,
    "name": "ml.m5d.24xlarge",
    "vcpuNum": 96
   },
   {
    "_defaultOrder": 20,
    "_isFastLaunch": false,
    "category": "General purpose",
    "gpuNum": 0,
    "hideHardwareSpecs": true,
    "memoryGiB": 0,
    "name": "ml.geospatial.interactive",
    "supportedImageNames": [
     "sagemaker-geospatial-v1-0"
    ],
    "vcpuNum": 0
   },
   {
    "_defaultOrder": 21,
    "_isFastLaunch": true,
    "category": "Compute optimized",
    "gpuNum": 0,
    "hideHardwareSpecs": false,
    "memoryGiB": 4,
    "name": "ml.c5.large",
    "vcpuNum": 2
   },
   {
    "_defaultOrder": 22,
    "_isFastLaunch": false,
    "category": "Compute optimized",
    "gpuNum": 0,
    "hideHardwareSpecs": false,
    "memoryGiB": 8,
    "name": "ml.c5.xlarge",
    "vcpuNum": 4
   },
   {
    "_defaultOrder": 23,
    "_isFastLaunch": false,
    "category": "Compute optimized",
    "gpuNum": 0,
    "hideHardwareSpecs": false,
    "memoryGiB": 16,
    "name": "ml.c5.2xlarge",
    "vcpuNum": 8
   },
   {
    "_defaultOrder": 24,
    "_isFastLaunch": false,
    "category": "Compute optimized",
    "gpuNum": 0,
    "hideHardwareSpecs": false,
    "memoryGiB": 32,
    "name": "ml.c5.4xlarge",
    "vcpuNum": 16
   },
   {
    "_defaultOrder": 25,
    "_isFastLaunch": false,
    "category": "Compute optimized",
    "gpuNum": 0,
    "hideHardwareSpecs": false,
    "memoryGiB": 72,
    "name": "ml.c5.9xlarge",
    "vcpuNum": 36
   },
   {
    "_defaultOrder": 26,
    "_isFastLaunch": false,
    "category": "Compute optimized",
    "gpuNum": 0,
    "hideHardwareSpecs": false,
    "memoryGiB": 96,
    "name": "ml.c5.12xlarge",
    "vcpuNum": 48
   },
   {
    "_defaultOrder": 27,
    "_isFastLaunch": false,
    "category": "Compute optimized",
    "gpuNum": 0,
    "hideHardwareSpecs": false,
    "memoryGiB": 144,
    "name": "ml.c5.18xlarge",
    "vcpuNum": 72
   },
   {
    "_defaultOrder": 28,
    "_isFastLaunch": false,
    "category": "Compute optimized",
    "gpuNum": 0,
    "hideHardwareSpecs": false,
    "memoryGiB": 192,
    "name": "ml.c5.24xlarge",
    "vcpuNum": 96
   },
   {
    "_defaultOrder": 29,
    "_isFastLaunch": true,
    "category": "Accelerated computing",
    "gpuNum": 1,
    "hideHardwareSpecs": false,
    "memoryGiB": 16,
    "name": "ml.g4dn.xlarge",
    "vcpuNum": 4
   },
   {
    "_defaultOrder": 30,
    "_isFastLaunch": false,
    "category": "Accelerated computing",
    "gpuNum": 1,
    "hideHardwareSpecs": false,
    "memoryGiB": 32,
    "name": "ml.g4dn.2xlarge",
    "vcpuNum": 8
   },
   {
    "_defaultOrder": 31,
    "_isFastLaunch": false,
    "category": "Accelerated computing",
    "gpuNum": 1,
    "hideHardwareSpecs": false,
    "memoryGiB": 64,
    "name": "ml.g4dn.4xlarge",
    "vcpuNum": 16
   },
   {
    "_defaultOrder": 32,
    "_isFastLaunch": false,
    "category": "Accelerated computing",
    "gpuNum": 1,
    "hideHardwareSpecs": false,
    "memoryGiB": 128,
    "name": "ml.g4dn.8xlarge",
    "vcpuNum": 32
   },
   {
    "_defaultOrder": 33,
    "_isFastLaunch": false,
    "category": "Accelerated computing",
    "gpuNum": 4,
    "hideHardwareSpecs": false,
    "memoryGiB": 192,
    "name": "ml.g4dn.12xlarge",
    "vcpuNum": 48
   },
   {
    "_defaultOrder": 34,
    "_isFastLaunch": false,
    "category": "Accelerated computing",
    "gpuNum": 1,
    "hideHardwareSpecs": false,
    "memoryGiB": 256,
    "name": "ml.g4dn.16xlarge",
    "vcpuNum": 64
   },
   {
    "_defaultOrder": 35,
    "_isFastLaunch": false,
    "category": "Accelerated computing",
    "gpuNum": 1,
    "hideHardwareSpecs": false,
    "memoryGiB": 61,
    "name": "ml.p3.2xlarge",
    "vcpuNum": 8
   },
   {
    "_defaultOrder": 36,
    "_isFastLaunch": false,
    "category": "Accelerated computing",
    "gpuNum": 4,
    "hideHardwareSpecs": false,
    "memoryGiB": 244,
    "name": "ml.p3.8xlarge",
    "vcpuNum": 32
   },
   {
    "_defaultOrder": 37,
    "_isFastLaunch": false,
    "category": "Accelerated computing",
    "gpuNum": 8,
    "hideHardwareSpecs": false,
    "memoryGiB": 488,
    "name": "ml.p3.16xlarge",
    "vcpuNum": 64
   },
   {
    "_defaultOrder": 38,
    "_isFastLaunch": false,
    "category": "Accelerated computing",
    "gpuNum": 8,
    "hideHardwareSpecs": false,
    "memoryGiB": 768,
    "name": "ml.p3dn.24xlarge",
    "vcpuNum": 96
   },
   {
    "_defaultOrder": 39,
    "_isFastLaunch": false,
    "category": "Memory Optimized",
    "gpuNum": 0,
    "hideHardwareSpecs": false,
    "memoryGiB": 16,
    "name": "ml.r5.large",
    "vcpuNum": 2
   },
   {
    "_defaultOrder": 40,
    "_isFastLaunch": false,
    "category": "Memory Optimized",
    "gpuNum": 0,
    "hideHardwareSpecs": false,
    "memoryGiB": 32,
    "name": "ml.r5.xlarge",
    "vcpuNum": 4
   },
   {
    "_defaultOrder": 41,
    "_isFastLaunch": false,
    "category": "Memory Optimized",
    "gpuNum": 0,
    "hideHardwareSpecs": false,
    "memoryGiB": 64,
    "name": "ml.r5.2xlarge",
    "vcpuNum": 8
   },
   {
    "_defaultOrder": 42,
    "_isFastLaunch": false,
    "category": "Memory Optimized",
    "gpuNum": 0,
    "hideHardwareSpecs": false,
    "memoryGiB": 128,
    "name": "ml.r5.4xlarge",
    "vcpuNum": 16
   },
   {
    "_defaultOrder": 43,
    "_isFastLaunch": false,
    "category": "Memory Optimized",
    "gpuNum": 0,
    "hideHardwareSpecs": false,
    "memoryGiB": 256,
    "name": "ml.r5.8xlarge",
    "vcpuNum": 32
   },
   {
    "_defaultOrder": 44,
    "_isFastLaunch": false,
    "category": "Memory Optimized",
    "gpuNum": 0,
    "hideHardwareSpecs": false,
    "memoryGiB": 384,
    "name": "ml.r5.12xlarge",
    "vcpuNum": 48
   },
   {
    "_defaultOrder": 45,
    "_isFastLaunch": false,
    "category": "Memory Optimized",
    "gpuNum": 0,
    "hideHardwareSpecs": false,
    "memoryGiB": 512,
    "name": "ml.r5.16xlarge",
    "vcpuNum": 64
   },
   {
    "_defaultOrder": 46,
    "_isFastLaunch": false,
    "category": "Memory Optimized",
    "gpuNum": 0,
    "hideHardwareSpecs": false,
    "memoryGiB": 768,
    "name": "ml.r5.24xlarge",
    "vcpuNum": 96
   },
   {
    "_defaultOrder": 47,
    "_isFastLaunch": false,
    "category": "Accelerated computing",
    "gpuNum": 1,
    "hideHardwareSpecs": false,
    "memoryGiB": 16,
    "name": "ml.g5.xlarge",
    "vcpuNum": 4
   },
   {
    "_defaultOrder": 48,
    "_isFastLaunch": false,
    "category": "Accelerated computing",
    "gpuNum": 1,
    "hideHardwareSpecs": false,
    "memoryGiB": 32,
    "name": "ml.g5.2xlarge",
    "vcpuNum": 8
   },
   {
    "_defaultOrder": 49,
    "_isFastLaunch": false,
    "category": "Accelerated computing",
    "gpuNum": 1,
    "hideHardwareSpecs": false,
    "memoryGiB": 64,
    "name": "ml.g5.4xlarge",
    "vcpuNum": 16
   },
   {
    "_defaultOrder": 50,
    "_isFastLaunch": false,
    "category": "Accelerated computing",
    "gpuNum": 1,
    "hideHardwareSpecs": false,
    "memoryGiB": 128,
    "name": "ml.g5.8xlarge",
    "vcpuNum": 32
   },
   {
    "_defaultOrder": 51,
    "_isFastLaunch": false,
    "category": "Accelerated computing",
    "gpuNum": 1,
    "hideHardwareSpecs": false,
    "memoryGiB": 256,
    "name": "ml.g5.16xlarge",
    "vcpuNum": 64
   },
   {
    "_defaultOrder": 52,
    "_isFastLaunch": false,
    "category": "Accelerated computing",
    "gpuNum": 4,
    "hideHardwareSpecs": false,
    "memoryGiB": 192,
    "name": "ml.g5.12xlarge",
    "vcpuNum": 48
   },
   {
    "_defaultOrder": 53,
    "_isFastLaunch": false,
    "category": "Accelerated computing",
    "gpuNum": 4,
    "hideHardwareSpecs": false,
    "memoryGiB": 384,
    "name": "ml.g5.24xlarge",
    "vcpuNum": 96
   },
   {
    "_defaultOrder": 54,
    "_isFastLaunch": false,
    "category": "Accelerated computing",
    "gpuNum": 8,
    "hideHardwareSpecs": false,
    "memoryGiB": 768,
    "name": "ml.g5.48xlarge",
    "vcpuNum": 192
   },
   {
    "_defaultOrder": 55,
    "_isFastLaunch": false,
    "category": "Accelerated computing",
    "gpuNum": 8,
    "hideHardwareSpecs": false,
    "memoryGiB": 1152,
    "name": "ml.p4d.24xlarge",
    "vcpuNum": 96
   },
   {
    "_defaultOrder": 56,
    "_isFastLaunch": false,
    "category": "Accelerated computing",
    "gpuNum": 8,
    "hideHardwareSpecs": false,
    "memoryGiB": 1152,
    "name": "ml.p4de.24xlarge",
    "vcpuNum": 96
   }
  ],
  "instance_type": "ml.t3.medium",
  "kernelspec": {
   "display_name": "Python 3 (Data Science)",
   "language": "python",
   "name": "python3__SAGEMAKER_INTERNAL__arn:aws:sagemaker:ap-northeast-2:806072073708:image/datascience-1.0"
  },
  "language_info": {
   "codemirror_mode": {
    "name": "ipython",
    "version": 3
   },
   "file_extension": ".py",
   "mimetype": "text/x-python",
   "name": "python",
   "nbconvert_exporter": "python",
   "pygments_lexer": "ipython3",
   "version": "3.7.10"
  }
 },
 "nbformat": 4,
 "nbformat_minor": 4
}
